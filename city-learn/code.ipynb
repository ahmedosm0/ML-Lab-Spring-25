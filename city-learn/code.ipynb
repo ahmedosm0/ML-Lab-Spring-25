{
 "cells": [
  {
   "cell_type": "code",
   "execution_count": null,
   "metadata": {},
   "outputs": [],
   "source": [
    "import pandas as pd\n",
    "\n",
    "# List of CSV file paths (raw string format to avoid unicode errors)\n",
    "csv_files = [\n",
    "    r'F:/ML Lab Spring 25/city-learn/datasets/carbon_intensity.csv',\n",
    "    r'F:/ML Lab Spring 25/city-learn/datasets/Building_2.csv',\n",
    "    r'F:/ML Lab Spring 25/city-learn/datasets/weather.csv',\n",
    "    r'F:/ML Lab Spring 25/city-learn/datasets/pricing.csv'\n",
    "]\n",
    "\n",
    "# Read and concatenate all CSV files into one DataFrame\n",
    "combined_df = pd.concat([pd.read_csv(file) for file in csv_files], ignore_index=True)\n",
    "\n",
    "# Save the combined DataFrame to a new CSV file\n",
    "combined_df.to_csv(r'F:/ML Lab Spring 25/city-learn/datasets/merged_file.csv', index=False)\n",
    "\n",
    "print(\"CSV files merged and saved successfully as 'merged_file.csv'.\")"
   ]
  }
 ],
 "metadata": {
  "language_info": {
   "name": "python"
  }
 },
 "nbformat": 4,
 "nbformat_minor": 2
}
